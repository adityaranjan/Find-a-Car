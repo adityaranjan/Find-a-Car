{
  "nbformat": 4,
  "nbformat_minor": 0,
  "metadata": {
    "colab": {
      "name": "recAlgorithm.ipynb",
      "provenance": [],
      "collapsed_sections": []
    },
    "kernelspec": {
      "name": "python3",
      "display_name": "Python 3"
    }
  },
  "cells": [
    {
      "cell_type": "code",
      "metadata": {
        "id": "TDRFkcdh_XPQ"
      },
      "source": [
        "#Import essential libraries\n",
        "import numpy as np\n",
        "import pandas as pd\n",
        "from tqdm import tqdm"
      ],
      "execution_count": null,
      "outputs": []
    },
    {
      "cell_type": "code",
      "metadata": {
        "id": "3hJa-nE8HSRI"
      },
      "source": [
        "#figure out a way to choose the right range of prices (probability distribution, etc)\n",
        "def userInfo(feat):\n",
        "  while True:  \n",
        "    maxPrice = float(input(\"\\nWhat maximum price are you willing to pay for your car? (ex: 30000) \"))\n",
        "    if maxPrice < 12000:\n",
        "      print(\"\\nThat's too low! $12,000 is the lowest we can do.\")\n",
        "    elif maxPrice > 2100000:\n",
        "      print(\"\\nThat's too high! $2,100,000 is the highest we can do.\")\n",
        "    else:\n",
        "      feat = feat.loc[feat[\"MSRP\"] <= maxPrice]\n",
        "      if len(feat) > 5:\n",
        "        price50 = np.percentile(feat[\"MSRP\"], [50])\n",
        "        feat = feat.loc[feat[\"MSRP\"] >= float(price50)]\n",
        "        feat.index = [i for i in range(len(feat))]\n",
        "      break\n",
        "\n",
        "  houseSize = \"house\" + input(\"\\nIs the size of your household greater than 2? (y/n) \").upper()\n",
        "  dailyCommute = \"commute\" + input(\"\\nIs your daily commute less than 5 miles? (y/n) \").upper()\n",
        "  ecoFriendly = input(\"\\nDo you prefer eco-friendly cars? (y/n) \").upper()\n",
        "  luxuryChoice = input(\"\\nDo you prefer powerful luxurious cars? (y/n) \").upper()\n",
        "\n",
        "  return feat, [houseSize, dailyCommute, ecoFriendly, luxuryChoice], maxPrice"
      ],
      "execution_count": null,
      "outputs": []
    },
    {
      "cell_type": "code",
      "metadata": {
        "id": "I1eRGgj3VVhE"
      },
      "source": [
        "#took away 16 from reg and added 6 each to van and truck and 2 each to sport ad st wagon\n",
        "stylePercents = {\"houseY\": {\"regular car\": 33, \"van\": 39, \"truck\": 17, \"sport car\": 2, \"station wagon\": 8},\n",
        "                \"houseN\": {\"regular car\": 55, \"van\": 15, \"truck\": 21, \"sport car\": 5, \"station wagon\": 4},\n",
        "                \"commuteY\": {\"regular car\": 55, \"van\": 20, \"truck\": 17, \"sport car\": 4, \"station wagon\": 4},\n",
        "                \"commuteN\": {\"regular car\": 44, \"van\": 23, \"truck\": 22, \"sport car\": 5, \"station wagon\": 6}}\n",
        "\n",
        "fuelPercents = {\"houseY\": {\"gasoline\": 32, \"electric\": 27, \"other\": 41},\n",
        "                \"houseN\": {\"gasoline\": 36, \"electric\": 27, \"other\": 37},\n",
        "                \"commuteY\": {\"gasoline\": 28, \"electric\": 30, \"other\": 42},\n",
        "                \"commuteN\": {\"gasoline\": 40, \"electric\": 25, \"other\": 35}}\n",
        "\n",
        "sizePercents = {\"houseY\": {\"midsize/large\": 67, \"compact\": 33},\n",
        "                \"houseN\": {\"midsize/large\": 56, \"compact\": 44},\n",
        "                \"commuteY\": {\"midsize/large\": 62, \"compact\": 38},\n",
        "                \"commuteN\": {\"midsize/large\": 57, \"compact\": 43}}\n",
        "\n",
        "\n",
        "styleDict = {\"regular car\": [\"Sedan\", \"Hatchback\", \"SUV\"],\n",
        "             \"van\": [\"Minivan\"],\n",
        "             \"truck\": [\"Pickup\"],\n",
        "             \"sport car\": [\"Coupe\", \"Convertible\"],\n",
        "             \"station wagon\": [\"Station Wagon\"],}\n",
        "\n",
        "fuelDict = {\"gasoline\": [\"regular\", \"premium\", \"diesel\"],\n",
        "            \"electric\": [\"electric\"],\n",
        "            \"other\": [\"natural gas\", \"flex-fuel\"]}\n",
        "\n",
        "sizeDict = {\"midsize/large\": [\"Midsize/Large\"],\n",
        "            \"compact\": [\"Compact\"]}\n"
      ],
      "execution_count": null,
      "outputs": []
    },
    {
      "cell_type": "code",
      "metadata": {
        "id": "OQapWIjDcQ6t"
      },
      "source": [
        "def getCategory(inputStr, inputDict):\n",
        "  for key, value in inputDict.items():\n",
        "    for elem in value:\n",
        "      if elem in inputStr:\n",
        "        return key"
      ],
      "execution_count": null,
      "outputs": []
    },
    {
      "cell_type": "code",
      "metadata": {
        "id": "3-0RbFWhgxRx"
      },
      "source": [
        "def probScore(prob):\n",
        "  if np.random.randint(1, 101) <= prob:\n",
        "    return 1\n",
        "  else:\n",
        "    return 0"
      ],
      "execution_count": null,
      "outputs": []
    },
    {
      "cell_type": "code",
      "metadata": {
        "id": "34xSTst5lAGD"
      },
      "source": [
        "#Function to remove \"N/A\" values from a list\n",
        "def removeNA(inputList):\n",
        "    return [elem for elem in inputList if elem != \"N/A\"]"
      ],
      "execution_count": null,
      "outputs": []
    },
    {
      "cell_type": "code",
      "metadata": {
        "id": "XqSinu1257ua"
      },
      "source": [
        "hpList = list(map(float, removeNA(feat[\"Engine HP\"])))\n",
        "hp75, hp25 = np.percentile(hpList, [75]), np.percentile(hpList, [25])\n",
        "\n",
        "highwayList = list(map(float, removeNA(feat[\"Highway MPG\"])))\n",
        "highway75, highway25 = np.percentile(highwayList, [75]), np.percentile(highwayList, [25])\n",
        "\n",
        "cityList = list(map(float, removeNA(feat[\"City MPG\"])))\n",
        "city75, city25 = np.percentile(cityList, [75]), np.percentile(cityList, [25])"
      ],
      "execution_count": null,
      "outputs": []
    },
    {
      "cell_type": "code",
      "metadata": {
        "id": "GLsW3j_g4xdz"
      },
      "source": [
        "ecoCoeff, ecoUnit = 0.15, 0.1\n",
        "ecoWords = [\"natural gas\", \"flex-fuel\", \"electric\", \"Hybrid\"]\n",
        "\n",
        "def ecoScore(carInfo):\n",
        "  score, ecoCount = 0, 0\n",
        "\n",
        "  for i in range(3):\n",
        "    if isinstance(carInfo[3], str) and ecoWords[i] in carInfo[3]:\n",
        "      ecoCount += 1\n",
        "  \n",
        "  if isinstance(carInfo[9], str) and ecoWords[3] in carInfo[9]:\n",
        "    ecoCount += 1\n",
        "\n",
        "  score = ecoCount * ecoCoeff\n",
        "\n",
        "  if carInfo[4] != \"N/A\" and float(carInfo[4]) > hp75:\n",
        "    score -= ecoUnit\n",
        "  elif carInfo[4] != \"N/A\" and float(carInfo[4]) < hp25:\n",
        "    score += ecoUnit\n",
        "\n",
        "  if carInfo[5] != \"N/A\" and float(carInfo[5]) > 8:\n",
        "    score -= ecoUnit\n",
        "  elif carInfo[5] != \"N/A\" and float(carInfo[5]) <= 4:\n",
        "    score += ecoUnit\n",
        "\n",
        "  if float(carInfo[12]) > highway75:\n",
        "    score += ecoUnit\n",
        "  elif float(carInfo[12]) < highway25:\n",
        "    score -= ecoUnit\n",
        "\n",
        "  if float(carInfo[12]) > city75:\n",
        "    score += ecoUnit\n",
        "  elif float(carInfo[12]) < city25:\n",
        "    score -= ecoUnit\n",
        "\n",
        "  if \"premium\" in carInfo[3] and \"flex-fuel\" not in carInfo[3]:\n",
        "    score -= ecoUnit\n",
        "\n",
        "  return score"
      ],
      "execution_count": null,
      "outputs": []
    },
    {
      "cell_type": "code",
      "metadata": {
        "id": "wTaKaqjV40c7"
      },
      "source": [
        "luxuryCoeff, luxuryUnit = 0.15, 0.05\n",
        "luxuryWords = [\"Crossover\", \"Exotic\", \"High-Performance\", \"Luxury\"]\n",
        "\n",
        "def luxuryScore(carInfo):\n",
        "  score, luxuryCount = 0, 0\n",
        "\n",
        "  for i in range(len(luxuryWords)):\n",
        "    if isinstance(carInfo[9], str) and luxuryWords[i] in carInfo[9]:\n",
        "      luxuryCount += 1\n",
        "  \n",
        "  score = luxuryCount * luxuryCoeff\n",
        "\n",
        "  if carInfo[4] != \"N/A\" and float(carInfo[4]) > hp75:\n",
        "    score += luxuryUnit\n",
        "  elif carInfo[4] != \"N/A\" and float(carInfo[4]) < hp25:\n",
        "    score -= luxuryUnit\n",
        "\n",
        "  if carInfo[5] != \"N/A\" and float(carInfo[5]) > 8:\n",
        "    score += luxuryUnit\n",
        "  elif carInfo[5] != \"N/A\" and float(carInfo[5]) <= 4:\n",
        "    score -= luxuryUnit\n",
        "\n",
        "  if float(carInfo[12]) > highway75:\n",
        "    score -= luxuryUnit\n",
        "  elif float(carInfo[12]) < highway25:\n",
        "    score += luxuryUnit\n",
        "\n",
        "  if float(carInfo[12]) > city75:\n",
        "    score -= luxuryUnit\n",
        "  elif float(carInfo[12]) < city25:\n",
        "    score += luxuryUnit\n",
        "\n",
        "  if \"Convertible\" in carInfo[11] or \"Coupe\" in carInfo[11]:\n",
        "    score += luxuryUnit * 4\n",
        "\n",
        "  if carInfo[8] != \"N/A\" and float(carInfo[8]) == 2:\n",
        "    score += luxuryUnit * 2\n",
        "\n",
        "  return score"
      ],
      "execution_count": null,
      "outputs": []
    },
    {
      "cell_type": "code",
      "metadata": {
        "id": "qKhd3N90TuP9"
      },
      "source": [
        "def scoreCar(carInfo):\n",
        "  score = 0\n",
        "\n",
        "  style = getCategory(carInfo[11], styleDict)\n",
        "  fuel = getCategory(carInfo[3], fuelDict)\n",
        "  size = getCategory(carInfo[10], sizeDict)\n",
        "\n",
        "  for i in range(2):\n",
        "    score += probScore(stylePercents[userInputs[i]][style])\n",
        "    score += probScore(fuelPercents[userInputs[i]][fuel])\n",
        "    score += probScore(sizePercents[userInputs[i]][size])\n",
        "\n",
        "  score += carInfo[14] / 10000\n",
        "\n",
        "  if carInfo[6] == \"manual\" or carInfo[6] == \"automated manual\":\n",
        "    score *= 0.7\n",
        "\n",
        "  if userInputs[2] == \"Y\":\n",
        "    score += ecoScore(carInfo)\n",
        "\n",
        "  if userInputs[3] == \"Y\":\n",
        "   score += luxuryScore(carInfo)\n",
        "\n",
        "  if carInfo[2] >= 2015:\n",
        "    score *= 1.2\n",
        "\n",
        "  if carInfo[15] >= maxPrice - 5000:\n",
        "    score *= 1.3\n",
        "\n",
        "  return score"
      ],
      "execution_count": null,
      "outputs": []
    },
    {
      "cell_type": "code",
      "metadata": {
        "id": "Lxg4avwbT6CY"
      },
      "source": [
        "def scoreAll(feat):\n",
        "  scoreIndexDict = {}\n",
        "\n",
        "  for index in tqdm(feat.index):\n",
        "    scoreIndexDict[scoreCar(list(feat.iloc[index]))] = index\n",
        "\n",
        "  return scoreIndexDict"
      ],
      "execution_count": null,
      "outputs": []
    },
    {
      "cell_type": "code",
      "metadata": {
        "id": "55dP1je-5hde",
        "colab": {
          "base_uri": "https://localhost:8080/",
          "height": 408
        },
        "outputId": "8297e4d5-bbbe-4a14-cab8-1cb23fe9e125"
      },
      "source": [
        "feat = pd.read_csv(\"featuresData.csv\", na_filter = False)\n",
        "feat.head()"
      ],
      "execution_count": null,
      "outputs": [
        {
          "output_type": "execute_result",
          "data": {
            "text/html": [
              "<div>\n",
              "<style scoped>\n",
              "    .dataframe tbody tr th:only-of-type {\n",
              "        vertical-align: middle;\n",
              "    }\n",
              "\n",
              "    .dataframe tbody tr th {\n",
              "        vertical-align: top;\n",
              "    }\n",
              "\n",
              "    .dataframe thead th {\n",
              "        text-align: right;\n",
              "    }\n",
              "</style>\n",
              "<table border=\"1\" class=\"dataframe\">\n",
              "  <thead>\n",
              "    <tr style=\"text-align: right;\">\n",
              "      <th></th>\n",
              "      <th>Make</th>\n",
              "      <th>Model</th>\n",
              "      <th>Year</th>\n",
              "      <th>Engine Fuel Type</th>\n",
              "      <th>Engine HP</th>\n",
              "      <th>Engine Cylinders</th>\n",
              "      <th>Transmission Type</th>\n",
              "      <th>Drivetrain</th>\n",
              "      <th>Number of Doors</th>\n",
              "      <th>Market Category</th>\n",
              "      <th>Vehicle Size</th>\n",
              "      <th>Vehicle Style</th>\n",
              "      <th>Highway MPG</th>\n",
              "      <th>City MPG</th>\n",
              "      <th>Popularity</th>\n",
              "      <th>MSRP</th>\n",
              "    </tr>\n",
              "  </thead>\n",
              "  <tbody>\n",
              "    <tr>\n",
              "      <th>0</th>\n",
              "      <td>BMW</td>\n",
              "      <td>1 Series M</td>\n",
              "      <td>2011</td>\n",
              "      <td>premium unleaded (required)</td>\n",
              "      <td>335</td>\n",
              "      <td>6</td>\n",
              "      <td>manual</td>\n",
              "      <td>rear wheel drive</td>\n",
              "      <td>2</td>\n",
              "      <td>Factory Tuner,Luxury,High-Performance</td>\n",
              "      <td>Compact</td>\n",
              "      <td>Coupe</td>\n",
              "      <td>26</td>\n",
              "      <td>19</td>\n",
              "      <td>3916</td>\n",
              "      <td>46135</td>\n",
              "    </tr>\n",
              "    <tr>\n",
              "      <th>1</th>\n",
              "      <td>BMW</td>\n",
              "      <td>1 Series</td>\n",
              "      <td>2011</td>\n",
              "      <td>premium unleaded (required)</td>\n",
              "      <td>300</td>\n",
              "      <td>6</td>\n",
              "      <td>manual</td>\n",
              "      <td>rear wheel drive</td>\n",
              "      <td>2</td>\n",
              "      <td>Luxury,Performance</td>\n",
              "      <td>Compact</td>\n",
              "      <td>Convertible</td>\n",
              "      <td>28</td>\n",
              "      <td>19</td>\n",
              "      <td>3916</td>\n",
              "      <td>40650</td>\n",
              "    </tr>\n",
              "    <tr>\n",
              "      <th>2</th>\n",
              "      <td>BMW</td>\n",
              "      <td>1 Series</td>\n",
              "      <td>2011</td>\n",
              "      <td>premium unleaded (required)</td>\n",
              "      <td>300</td>\n",
              "      <td>6</td>\n",
              "      <td>manual</td>\n",
              "      <td>rear wheel drive</td>\n",
              "      <td>2</td>\n",
              "      <td>Luxury,High-Performance</td>\n",
              "      <td>Compact</td>\n",
              "      <td>Coupe</td>\n",
              "      <td>28</td>\n",
              "      <td>20</td>\n",
              "      <td>3916</td>\n",
              "      <td>36350</td>\n",
              "    </tr>\n",
              "    <tr>\n",
              "      <th>3</th>\n",
              "      <td>BMW</td>\n",
              "      <td>1 Series</td>\n",
              "      <td>2011</td>\n",
              "      <td>premium unleaded (required)</td>\n",
              "      <td>230</td>\n",
              "      <td>6</td>\n",
              "      <td>manual</td>\n",
              "      <td>rear wheel drive</td>\n",
              "      <td>2</td>\n",
              "      <td>Luxury,Performance</td>\n",
              "      <td>Compact</td>\n",
              "      <td>Coupe</td>\n",
              "      <td>28</td>\n",
              "      <td>18</td>\n",
              "      <td>3916</td>\n",
              "      <td>29450</td>\n",
              "    </tr>\n",
              "    <tr>\n",
              "      <th>4</th>\n",
              "      <td>BMW</td>\n",
              "      <td>1 Series</td>\n",
              "      <td>2011</td>\n",
              "      <td>premium unleaded (required)</td>\n",
              "      <td>230</td>\n",
              "      <td>6</td>\n",
              "      <td>manual</td>\n",
              "      <td>rear wheel drive</td>\n",
              "      <td>2</td>\n",
              "      <td>Luxury</td>\n",
              "      <td>Compact</td>\n",
              "      <td>Convertible</td>\n",
              "      <td>28</td>\n",
              "      <td>18</td>\n",
              "      <td>3916</td>\n",
              "      <td>34500</td>\n",
              "    </tr>\n",
              "  </tbody>\n",
              "</table>\n",
              "</div>"
            ],
            "text/plain": [
              "  Make       Model  Year  ... City MPG Popularity   MSRP\n",
              "0  BMW  1 Series M  2011  ...       19       3916  46135\n",
              "1  BMW    1 Series  2011  ...       19       3916  40650\n",
              "2  BMW    1 Series  2011  ...       20       3916  36350\n",
              "3  BMW    1 Series  2011  ...       18       3916  29450\n",
              "4  BMW    1 Series  2011  ...       18       3916  34500\n",
              "\n",
              "[5 rows x 16 columns]"
            ]
          },
          "metadata": {
            "tags": []
          },
          "execution_count": 97
        }
      ]
    },
    {
      "cell_type": "code",
      "metadata": {
        "id": "G1iz_7729MJQ",
        "colab": {
          "base_uri": "https://localhost:8080/",
          "height": 187
        },
        "outputId": "2a79079b-8e98-4f90-dbae-e2b84075efe1"
      },
      "source": [
        "feat, userInputs, maxPrice = userInfo(feat)"
      ],
      "execution_count": null,
      "outputs": [
        {
          "output_type": "stream",
          "text": [
            "\n",
            "What maximum price are you willing to pay for your car? (ex: 30000) 45000\n",
            "\n",
            "Is the size of your household greater than 2? (y/n) y\n",
            "\n",
            "Is your daily commute less than 5 miles? (y/n) y\n",
            "\n",
            "Do you prefer eco-friendly cars? (y/n) y\n",
            "\n",
            "Do you prefer powerful luxurious cars? (y/n) y\n"
          ],
          "name": "stdout"
        }
      ]
    },
    {
      "cell_type": "code",
      "metadata": {
        "id": "F7Jzo-MDT7-F",
        "colab": {
          "base_uri": "https://localhost:8080/",
          "height": 34
        },
        "outputId": "51518d18-e52c-479e-fe67-56873552ec82"
      },
      "source": [
        "scoreIndexDict = scoreAll(feat)\n",
        "allScores = list(scoreIndexDict.keys())\n",
        "allScores.sort(reverse = True)\n",
        "\n",
        "normScores = list((np.array(allScores) - min(allScores)) / (max(allScores) - min(allScores)) * 10)"
      ],
      "execution_count": null,
      "outputs": [
        {
          "output_type": "stream",
          "text": [
            "100%|██████████| 2859/2859 [00:00<00:00, 3388.41it/s]\n"
          ],
          "name": "stderr"
        }
      ]
    },
    {
      "cell_type": "code",
      "metadata": {
        "id": "ilknzfkz_wEJ",
        "colab": {
          "base_uri": "https://localhost:8080/",
          "height": 374
        },
        "outputId": "0f5fc571-95a8-40f4-9794-90492dcb10a0"
      },
      "source": [
        "print(\"Top 5 Recommendations:\")\n",
        "for i in range(5):\n",
        "  carList = list(feat.iloc[scoreIndexDict[allScores[i]]])\n",
        "  print(\"\\n\" + str(i + 1) + \")\\n\" + carList[0] + \" \" + carList[1] + \" \" + str(carList[2]) + \" \" + carList[11])\n",
        "  print(\"Score: \" + str(normScores[i]))"
      ],
      "execution_count": null,
      "outputs": [
        {
          "output_type": "stream",
          "text": [
            "Top 5 Recommendations:\n",
            "\n",
            "1)\n",
            "Audi Q5 2016 4 Door SUV\n",
            "Score: 10.0\n",
            "\n",
            "2)\n",
            "Ford Explorer 2017 4 Door SUV\n",
            "Score: 8.736670162367975\n",
            "\n",
            "3)\n",
            "Cadillac ATS 2015 Sedan\n",
            "Score: 8.50742245390563\n",
            "\n",
            "4)\n",
            "Nissan Murano 2016 4 Door SUV\n",
            "Score: 8.490225137223849\n",
            "\n",
            "5)\n",
            "BMW 4 Series Gran Coupe 2017 Sedan\n",
            "Score: 8.401546799899538\n"
          ],
          "name": "stdout"
        }
      ]
    },
    {
      "cell_type": "code",
      "metadata": {
        "id": "BLoFjkFF_yFG",
        "colab": {
          "base_uri": "https://localhost:8080/",
          "height": 374
        },
        "outputId": "3821bfce-d832-4b18-8eca-ece75ced4542"
      },
      "source": [
        " print(\"Bottom 5 Recommendations:\")\n",
        "for i in range(5):\n",
        "  carList = list(feat.iloc[scoreIndexDict[allScores[len(allScores) - 1 - i]]])\n",
        "  print(\"\\n\" + str(i + 1) + \")\\n\" + carList[0] + \" \" + carList[1] + \" \" + str(carList[2]) + \" \" + carList[11])\n",
        "  print(\"Score: \" + str(normScores[len(normScores) - 1 - i]))"
      ],
      "execution_count": null,
      "outputs": [
        {
          "output_type": "stream",
          "text": [
            "Bottom 5 Recommendations:\n",
            "\n",
            "1)\n",
            "Mitsubishi Lancer Evolution 2014 Sedan\n",
            "Score: 0.0\n",
            "\n",
            "2)\n",
            "GMC Canyon 2016 Crew Cab Pickup\n",
            "Score: 0.06265421506807033\n",
            "\n",
            "3)\n",
            "Suzuki Equator 2010 Crew Cab Pickup\n",
            "Score: 0.06478231111230405\n",
            "\n",
            "4)\n",
            "Subaru WRX 2015 Sedan\n",
            "Score: 0.0731221469613281\n",
            "\n",
            "5)\n",
            "Lincoln Mark LT 2008 Crew Cab Pickup\n",
            "Score: 0.12038121677246431\n"
          ],
          "name": "stdout"
        }
      ]
    },
    {
      "cell_type": "code",
      "metadata": {
        "id": "wenn81Oaf2lD",
        "colab": {
          "base_uri": "https://localhost:8080/",
          "height": 1000
        },
        "outputId": "dc8f2d95-95df-4653-cddc-1f095a0edd97"
      },
      "source": [
        "print(\"Top 5 Recommendations:\")\n",
        "for i in range(5):\n",
        "  print(\"\\n\" + str(i + 1) + \")\\n\" + str(feat.iloc[scoreIndexDict[allScores[i]]]))\n",
        "  print(\"Score: \" + str(allScores[i]))"
      ],
      "execution_count": null,
      "outputs": [
        {
          "output_type": "stream",
          "text": [
            "Top 5 Recommendations:\n",
            "\n",
            "1)\n",
            "Make                                        Audi\n",
            "Model                                         Q5\n",
            "Year                                        2016\n",
            "Engine Fuel Type     premium unleaded (required)\n",
            "Engine HP                                    220\n",
            "Engine Cylinders                               4\n",
            "Transmission Type                      automatic\n",
            "Drivetrain                       all wheel drive\n",
            "Number of Doors                                4\n",
            "Market Category                 Crossover,Luxury\n",
            "Vehicle Size                       Midsize/Large\n",
            "Vehicle Style                         4 Door SUV\n",
            "Highway MPG                                   28\n",
            "City MPG                                      20\n",
            "Popularity                                  3105\n",
            "MSRP                                       40900\n",
            "Name: 1797, dtype: object\n",
            "Score: 10.312380000000001\n",
            "\n",
            "2)\n",
            "Make                                            Ford\n",
            "Model                                       Explorer\n",
            "Year                                            2017\n",
            "Engine Fuel Type                    regular unleaded\n",
            "Engine HP                                        280\n",
            "Engine Cylinders                                   4\n",
            "Transmission Type                          automatic\n",
            "Drivetrain                         front wheel drive\n",
            "Number of Doors                                    4\n",
            "Market Category      Crossover,Flex Fuel,Performance\n",
            "Vehicle Size                           Midsize/Large\n",
            "Vehicle Style                             4 Door SUV\n",
            "Highway MPG                                       27\n",
            "City MPG                                          19\n",
            "Popularity                                      5657\n",
            "MSRP                                           41525\n",
            "Name: 997, dtype: object\n",
            "Score: 8.994492\n",
            "\n",
            "3)\n",
            "Make                                          Cadillac\n",
            "Model                                              ATS\n",
            "Year                                              2015\n",
            "Engine Fuel Type              flex-fuel (unleaded/E85)\n",
            "Engine HP                                          321\n",
            "Engine Cylinders                                     6\n",
            "Transmission Type                            automatic\n",
            "Drivetrain                            rear wheel drive\n",
            "Number of Doors                                      4\n",
            "Market Category      Flex Fuel,Luxury,High-Performance\n",
            "Vehicle Size                                   Compact\n",
            "Vehicle Style                                    Sedan\n",
            "Highway MPG                                         28\n",
            "City MPG                                            18\n",
            "Popularity                                        1624\n",
            "MSRP                                             44660\n",
            "Name: 422, dtype: object\n",
            "Score: 8.755344\n",
            "\n",
            "4)\n",
            "Make                           Nissan\n",
            "Model                          Murano\n",
            "Year                             2016\n",
            "Engine Fuel Type     regular unleaded\n",
            "Engine HP                         250\n",
            "Engine Cylinders                    4\n",
            "Transmission Type           automatic\n",
            "Drivetrain            all wheel drive\n",
            "Number of Doors                     4\n",
            "Market Category      Crossover,Hybrid\n",
            "Vehicle Size            Midsize/Large\n",
            "Vehicle Style              4 Door SUV\n",
            "Highway MPG                        30\n",
            "City MPG                           26\n",
            "Popularity                       2009\n",
            "MSRP                            41730\n",
            "Name: 1582, dtype: object\n",
            "Score: 8.737403999999998\n",
            "\n",
            "5)\n",
            "Make                                            BMW\n",
            "Model                           4 Series Gran Coupe\n",
            "Year                                           2017\n",
            "Engine Fuel Type     premium unleaded (recommended)\n",
            "Engine HP                                       248\n",
            "Engine Cylinders                                  4\n",
            "Transmission Type                         automatic\n",
            "Drivetrain                          all wheel drive\n",
            "Number of Doors                                   4\n",
            "Market Category                              Luxury\n",
            "Vehicle Size                          Midsize/Large\n",
            "Vehicle Style                                 Sedan\n",
            "Highway MPG                                      33\n",
            "City MPG                                         23\n",
            "Popularity                                     3916\n",
            "MSRP                                          43950\n",
            "Name: 143, dtype: object\n",
            "Score: 8.644896\n"
          ],
          "name": "stdout"
        }
      ]
    },
    {
      "cell_type": "code",
      "metadata": {
        "id": "4wLex_RXjciY",
        "colab": {
          "base_uri": "https://localhost:8080/",
          "height": 1000
        },
        "outputId": "a1b0ca54-07ec-40df-c9c1-242be8b4fb31"
      },
      "source": [
        "print(\"Bottom 5 Recommendations:\")\n",
        "for i in range(5):\n",
        "  print(\"\\n\" + str(i + 1) + \")\\n\" + str(feat.iloc[scoreIndexDict[allScores[len(allScores) - 1 - i]]]))\n",
        "  print(\"Score: \" + str(allScores[len(allScores) - 1 - i]))"
      ],
      "execution_count": null,
      "outputs": [
        {
          "output_type": "stream",
          "text": [
            "Bottom 5 Recommendations:\n",
            "\n",
            "1)\n",
            "Make                               Mazda\n",
            "Model                     B-Series Truck\n",
            "Year                                2009\n",
            "Engine Fuel Type        regular unleaded\n",
            "Engine HP                            207\n",
            "Engine Cylinders                       6\n",
            "Transmission Type                 manual\n",
            "Drivetrain              four wheel drive\n",
            "Number of Doors                        4\n",
            "Market Category                      N/A\n",
            "Vehicle Size                     Compact\n",
            "Vehicle Style        Extended Cab Pickup\n",
            "Highway MPG                           19\n",
            "City MPG                              15\n",
            "Popularity                           586\n",
            "MSRP                               22150\n",
            "Name: 106, dtype: object\n",
            "Score: -0.3884700000000001\n",
            "\n",
            "2)\n",
            "Make                           Pontiac\n",
            "Model                               G6\n",
            "Year                              2008\n",
            "Engine Fuel Type      regular unleaded\n",
            "Engine HP                          219\n",
            "Engine Cylinders                     6\n",
            "Transmission Type            automatic\n",
            "Drivetrain           front wheel drive\n",
            "Number of Doors                      2\n",
            "Market Category            Performance\n",
            "Vehicle Size             Midsize/Large\n",
            "Vehicle Style                    Coupe\n",
            "Highway MPG                         26\n",
            "City MPG                            17\n",
            "Popularity                         210\n",
            "MSRP                             23100\n",
            "Name: 396, dtype: object\n",
            "Score: -0.2685\n",
            "\n",
            "3)\n",
            "Make                               Dodge\n",
            "Model                             Dakota\n",
            "Year                                2008\n",
            "Engine Fuel Type        regular unleaded\n",
            "Engine HP                            210\n",
            "Engine Cylinders                       6\n",
            "Transmission Type                 manual\n",
            "Drivetrain              four wheel drive\n",
            "Number of Doors                        4\n",
            "Market Category                      N/A\n",
            "Vehicle Size                     Compact\n",
            "Vehicle Style        Extended Cab Pickup\n",
            "Highway MPG                           19\n",
            "City MPG                              15\n",
            "Popularity                          1851\n",
            "MSRP                               24720\n",
            "Name: 273, dtype: object\n",
            "Score: -0.25564500000000007\n",
            "\n",
            "4)\n",
            "Make                                               Mazda\n",
            "Model                                       Mazdaspeed 3\n",
            "Year                                                2013\n",
            "Engine Fuel Type             premium unleaded (required)\n",
            "Engine HP                                            263\n",
            "Engine Cylinders                                       4\n",
            "Transmission Type                                 manual\n",
            "Drivetrain                             front wheel drive\n",
            "Number of Doors                                        4\n",
            "Market Category      Hatchback,Factory Tuner,Performance\n",
            "Vehicle Size                                     Compact\n",
            "Vehicle Style                           4 Door Hatchback\n",
            "Highway MPG                                           25\n",
            "City MPG                                              18\n",
            "Popularity                                           586\n",
            "MSRP                                               24200\n",
            "Name: 594, dtype: object\n",
            "Score: -0.23847000000000002\n",
            "\n",
            "5)\n",
            "Make                          Mitsubishi\n",
            "Model                             Raider\n",
            "Year                                2008\n",
            "Engine Fuel Type        regular unleaded\n",
            "Engine HP                            210\n",
            "Engine Cylinders                       6\n",
            "Transmission Type              automatic\n",
            "Drivetrain              rear wheel drive\n",
            "Number of Doors                        4\n",
            "Market Category                      N/A\n",
            "Vehicle Size                     Compact\n",
            "Vehicle Style        Extended Cab Pickup\n",
            "Highway MPG                           20\n",
            "City MPG                              15\n",
            "Popularity                           436\n",
            "MSRP                               23590\n",
            "Name: 675, dtype: object\n",
            "Score: -0.23460000000000003\n"
          ],
          "name": "stdout"
        }
      ]
    },
    {
      "cell_type": "code",
      "metadata": {
        "id": "4Cd2ZRnCXg36"
      },
      "source": [
        ""
      ],
      "execution_count": null,
      "outputs": []
    }
  ]
}