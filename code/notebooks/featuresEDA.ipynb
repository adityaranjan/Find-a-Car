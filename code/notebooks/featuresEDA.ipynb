{
  "nbformat": 4,
  "nbformat_minor": 0,
  "metadata": {
    "colab": {
      "name": "featuresEDA.ipynb",
      "provenance": [],
      "collapsed_sections": []
    },
    "kernelspec": {
      "name": "python3",
      "display_name": "Python 3"
    }
  },
  "cells": [
    {
      "cell_type": "code",
      "metadata": {
        "id": "1GG5r4GfhS9j"
      },
      "source": [
        "#Import essential libraries\n",
        "import numpy as np\n",
        "import pandas as pd\n",
        "import matplotlib.pyplot as plt"
      ],
      "execution_count": null,
      "outputs": []
    },
    {
      "cell_type": "code",
      "metadata": {
        "id": "ai1Pc2TSWNul",
        "colab": {
          "base_uri": "https://localhost:8080/",
          "height": 428
        },
        "outputId": "744fe9e4-ee13-4eef-8ab2-22b63cb34a1a"
      },
      "source": [
        "#Load features data\n",
        "feat = pd.read_csv(\"featuresData.csv\", na_filter = False)\n",
        "feat.head()"
      ],
      "execution_count": null,
      "outputs": [
        {
          "output_type": "execute_result",
          "data": {
            "text/html": [
              "<div>\n",
              "<style scoped>\n",
              "    .dataframe tbody tr th:only-of-type {\n",
              "        vertical-align: middle;\n",
              "    }\n",
              "\n",
              "    .dataframe tbody tr th {\n",
              "        vertical-align: top;\n",
              "    }\n",
              "\n",
              "    .dataframe thead th {\n",
              "        text-align: right;\n",
              "    }\n",
              "</style>\n",
              "<table border=\"1\" class=\"dataframe\">\n",
              "  <thead>\n",
              "    <tr style=\"text-align: right;\">\n",
              "      <th></th>\n",
              "      <th>Make</th>\n",
              "      <th>Model</th>\n",
              "      <th>Year</th>\n",
              "      <th>Engine Fuel Type</th>\n",
              "      <th>Engine HP</th>\n",
              "      <th>Engine Cylinders</th>\n",
              "      <th>Transmission Type</th>\n",
              "      <th>Drivetrain</th>\n",
              "      <th>Number of Doors</th>\n",
              "      <th>Market Category</th>\n",
              "      <th>Vehicle Size</th>\n",
              "      <th>Vehicle Style</th>\n",
              "      <th>Highway MPG</th>\n",
              "      <th>City MPG</th>\n",
              "      <th>Popularity</th>\n",
              "      <th>MSRP</th>\n",
              "    </tr>\n",
              "  </thead>\n",
              "  <tbody>\n",
              "    <tr>\n",
              "      <th>0</th>\n",
              "      <td>BMW</td>\n",
              "      <td>1 Series M</td>\n",
              "      <td>2011</td>\n",
              "      <td>premium unleaded (required)</td>\n",
              "      <td>335</td>\n",
              "      <td>6</td>\n",
              "      <td>manual</td>\n",
              "      <td>rear wheel drive</td>\n",
              "      <td>2</td>\n",
              "      <td>Factory Tuner,Luxury,High-Performance</td>\n",
              "      <td>Compact</td>\n",
              "      <td>Coupe</td>\n",
              "      <td>26</td>\n",
              "      <td>19</td>\n",
              "      <td>3916</td>\n",
              "      <td>46135</td>\n",
              "    </tr>\n",
              "    <tr>\n",
              "      <th>1</th>\n",
              "      <td>BMW</td>\n",
              "      <td>1 Series</td>\n",
              "      <td>2011</td>\n",
              "      <td>premium unleaded (required)</td>\n",
              "      <td>300</td>\n",
              "      <td>6</td>\n",
              "      <td>manual</td>\n",
              "      <td>rear wheel drive</td>\n",
              "      <td>2</td>\n",
              "      <td>Luxury,Performance</td>\n",
              "      <td>Compact</td>\n",
              "      <td>Convertible</td>\n",
              "      <td>28</td>\n",
              "      <td>19</td>\n",
              "      <td>3916</td>\n",
              "      <td>40650</td>\n",
              "    </tr>\n",
              "    <tr>\n",
              "      <th>2</th>\n",
              "      <td>BMW</td>\n",
              "      <td>1 Series</td>\n",
              "      <td>2011</td>\n",
              "      <td>premium unleaded (required)</td>\n",
              "      <td>300</td>\n",
              "      <td>6</td>\n",
              "      <td>manual</td>\n",
              "      <td>rear wheel drive</td>\n",
              "      <td>2</td>\n",
              "      <td>Luxury,High-Performance</td>\n",
              "      <td>Compact</td>\n",
              "      <td>Coupe</td>\n",
              "      <td>28</td>\n",
              "      <td>20</td>\n",
              "      <td>3916</td>\n",
              "      <td>36350</td>\n",
              "    </tr>\n",
              "    <tr>\n",
              "      <th>3</th>\n",
              "      <td>BMW</td>\n",
              "      <td>1 Series</td>\n",
              "      <td>2011</td>\n",
              "      <td>premium unleaded (required)</td>\n",
              "      <td>230</td>\n",
              "      <td>6</td>\n",
              "      <td>manual</td>\n",
              "      <td>rear wheel drive</td>\n",
              "      <td>2</td>\n",
              "      <td>Luxury,Performance</td>\n",
              "      <td>Compact</td>\n",
              "      <td>Coupe</td>\n",
              "      <td>28</td>\n",
              "      <td>18</td>\n",
              "      <td>3916</td>\n",
              "      <td>29450</td>\n",
              "    </tr>\n",
              "    <tr>\n",
              "      <th>4</th>\n",
              "      <td>BMW</td>\n",
              "      <td>1 Series</td>\n",
              "      <td>2011</td>\n",
              "      <td>premium unleaded (required)</td>\n",
              "      <td>230</td>\n",
              "      <td>6</td>\n",
              "      <td>manual</td>\n",
              "      <td>rear wheel drive</td>\n",
              "      <td>2</td>\n",
              "      <td>Luxury</td>\n",
              "      <td>Compact</td>\n",
              "      <td>Convertible</td>\n",
              "      <td>28</td>\n",
              "      <td>18</td>\n",
              "      <td>3916</td>\n",
              "      <td>34500</td>\n",
              "    </tr>\n",
              "  </tbody>\n",
              "</table>\n",
              "</div>"
            ],
            "text/plain": [
              "  Make       Model  Year  ... City MPG Popularity   MSRP\n",
              "0  BMW  1 Series M  2011  ...       19       3916  46135\n",
              "1  BMW    1 Series  2011  ...       19       3916  40650\n",
              "2  BMW    1 Series  2011  ...       20       3916  36350\n",
              "3  BMW    1 Series  2011  ...       18       3916  29450\n",
              "4  BMW    1 Series  2011  ...       18       3916  34500\n",
              "\n",
              "[5 rows x 16 columns]"
            ]
          },
          "metadata": {
            "tags": []
          },
          "execution_count": 2
        }
      ]
    },
    {
      "cell_type": "code",
      "metadata": {
        "id": "r-3MFTaMXaRA",
        "colab": {
          "base_uri": "https://localhost:8080/",
          "height": 71
        },
        "outputId": "e88bf061-1286-49b8-f094-106e6c8d6857"
      },
      "source": [
        "#Unique brands and models\n",
        "print(\"Brands: \" + str(set(feat[\"Make\"])))\n",
        "print(\"Models: \" + str(set(feat[\"Model\"])))"
      ],
      "execution_count": null,
      "outputs": [
        {
          "output_type": "stream",
          "text": [
            "Brands: {'Hyundai', 'Buick', 'Lexus', 'Suzuki', 'Toyota', 'Ford', 'Mitsubishi', 'Mazda', 'Dodge', 'Ferrari', 'BMW', 'Scion', 'Tesla', 'Cadillac', 'Subaru', 'McLaren', 'Lamborghini', 'Nissan', 'Infiniti', 'Volkswagen', 'Genesis', 'Acura', 'Lincoln', 'Bugatti', 'Bentley', 'Audi', 'Alfa Romeo', 'Land Rover', 'Saab', 'Volvo', 'Lotus', 'Mercedes-Benz', 'Chevrolet', 'HUMMER', 'Rolls-Royce', 'Pontiac', 'Chrysler', 'Maybach', 'Honda', 'Maserati', 'FIAT', 'Spyker', 'GMC', 'Kia', 'Porsche', 'Aston Martin'}\n",
            "Models: {'Cube', 'Camry Solara', 'Crosstrek', 'M5', '458 Italia', 'GS 450h', '4 Series Gran Coupe', 'DB9 GT', 'GS F', 'XC90', 'Levante', 'New Beetle', 'Fit EV', 'Golf Alltrack', 'Discovery Sport', 'Accord Crosstour', 'Entourage', 'Phantom Coupe', 'Highlander', 'Boxster', 'S2000', '3', 'S60 Cross Country', 'GranTurismo', 'S-Class', 'IS 350', 'Corvette', 'Reventon', 'Cayenne', 'Maybach', 'CTS-V Coupe', 'Veloster', 'RX-8', 'TTS', 'SS', 'ATS', 'Mulsanne', 'Exige', 'Continental Flying Spur', 'Encore', 'Accord Hybrid', 'Escalade ESV', 'Regal', 'Sebring', 'Matrix', 'RC 200t', 'Ghibli', 'Flex', 'R8', 'G37 Sedan', 'Focus', 'SLR McLaren', '62', 'Malibu', 'CTS', 'Accord Plug-In Hybrid', 'CT6', 'Envoy', 'M2', '599', 'Mirage G4', 'Grand Caravan', 'Phantom', '9-4X', 'Challenger', 'RX 450h', 'Malibu Limited', 'Cruze Limited', 'i3', 'Prius c', 'MKX', 'Rogue Select', 'TSX', 'S80', 'Cayman', 'F12 Berlinetta', 'Borrego', 'Cascada', '2 Series', '911', '86', 'Crossfire', 'RDX', 'ZDX', 'Wraith', 'Amanti', 'California T', 'Odyssey', 'Sonata', 'R-Class', 'S4', 'Optima Hybrid', 'Prius', 'Tundra', 'GL-Class', 'Tahoe', 'Golf GTI', 'Q70', 'Continental GT Speed Convertible', 'Fusion Hybrid', 'Supersports Convertible ISR', 'H3T', 'Mazdaspeed 3', 'SQ5', 'Taurus X', 'Impala', '6 Series Gran Coupe', 'Metris', 'C8', 'NSX', '500e', 'Fusion', 'B-Class Electric Drive', 'CTS Coupe', 'Camry Hybrid', '6', 'Azure', 'Murano', 'Rapide', 'Rio', 'Tribeca', 'V60 Cross Country', 'C-Max Hybrid', 'CL-Class', 'Xterra', 'Rogue', 'Black Diamond Avalanche', 'Q60 Convertible', 'G5', 'Flying Spur', 'Legacy', 'xB', 'Spectra', 'Murcielago', 'CTS-V Wagon', 'IS F', 'G80', 'Magnum', 'tC', 'S90', 'GLC-Class', 'Fit', 'RX 350', 'Soul EV', 'Z4 M', '5 Series Gran Turismo', '9-5', 'Sienna', 'QX80', 'RL', 'QX56', 'Corvette Stingray', 'Pilot', 'XL7', 'S5', 'Bolt EV', 'FF', 'Edge', 'i-MiEV', 'Continental', 'RAV4 EV', 'M56', 'xD', 'Maxima', 'EX', 'Equinox', 'M35', 'Navigator', 'GLI', 'A8', 'TL', 'BRZ', 'CR-Z', 'Juke', 'S8', 'Malibu Hybrid', 'Aspen', 'Tacoma', 'Sierra 1500 Hybrid', 'X4', 'Accord', 'Tribute', 'Prius Prime', 'STS', 'Gallardo', 'LX 570', 'XC70', 'FJ Cruiser', 'Rabbit', 'NX 300h', 'M3', 'Highlander Hybrid', 'MKC', '5', 'Continental GTC', 'IS 300', 'Suburban', '57', 'S7', '200', 'Outlander', 'IS 350 C', 'Transit Connect', 'Escalade EXT', 'SLS AMG GT', 'Trax', '3 Series', 'Colorado', 'Camry', 'Altima', 'Murano CrossCabriolet', 'Elantra', 'Range Rover', 'Titan', 'M4', 'Shelby GT350', 'Spark', 'E-Class', 'Captiva Sport', 'Yaris iA', 'Uplander', 'TSX Sport Wagon', 'Arnage', 'Dart', 'Ghost', 'LS 460', 'Avalon Hybrid', 'EX35', 'G37 Coupe', 'Grand Prix', 'Q7', 'Cadenza', 'Genesis', 'LaCrosse', 'G37', 'allroad', 'Land Cruiser', 'Corolla', 'V12 Vantage', '4Runner', 'Canyon', 'Yukon XL', 'Lancer Sportback', 'Tahoe Hybrid', 'Q5', 'G8', 'CTS Wagon', 'JX', 'V60', 'Enclave', 'C70', 'RC 350', '6 Series', 'Sierra 1500', 'Impreza WRX', 'Mirage', 'F430', 'RC 300', 'A7', 'ActiveHybrid 5', 'STS-V', 'Focus ST', 'FX50', 'X5 M', 'Santa Fe Sport', 'M4 GTS', 'Landaulet', '4 Series', 'Leaf', 'Veracruz', 'CLK-Class', 'Corolla iM', 'DBS', '500L', 'AMG GT', 'Escape', 'S3', 'Reno', 'Continental GT3-R', 'CX-3', 'GLE-Class', 'LR2', 'M', 'V12 Vantage S', 'MX-5 Miata', 'M45', 'Kizashi', '7 Series', 'M-Class', 'RS 7', 'iM', 'K900', 'X6 M', 'TT', 'Equator', 'Sentra', 'MP4-12C', 'RC F', 'GLE-Class Coupe', 'V70', '9-3', 'S40', 'Envision', 'Q3', 'RAV4', 'G37 Convertible', 'Evora 400', 'Santa Fe', 'Endeavor', 'Range Rover Evoque', 'iA', 'MKZ', 'Optima', 'Rapide S', 'Escalade Hybrid', 'Avalon', 'RLX', '650S Coupe', 'Ranger', 'Eclipse', 'LR3', 'Touareg', '350Z', 'Explorer Sport Trac', 'Explorer', 'CLA-Class', 'HHR', 'Mustang', '9-3 Griffin', 'Lancer', 'Tribute Hybrid', 'NX 200t', 'LS 600h L', 'MKZ Hybrid', 'Tiburon', 'SRX', 'CT 200h', 'Terrain', 'A3', 'Elise', 'Venza', 'Altima Hybrid', 'Golf SportWagen', 'Frontier', '9-7X', 'Outlander Sport', 'XV Crosstrek', 'Range Rover Sport', 'IS 250 C', 'Eos', 'FX35', 'Rondo', 'MKS', 'G-Class', 'Tucson', 'ActiveHybrid X6', 'Eclipse Spyder', 'HS 250h', 'Impreza', 'Silverado 1500', 'MKT', 'Nitro', 'Taurus', 'ATS Coupe', 'FR-S', 'Town Car', '4C', 'PT Cruiser', 'Continental Supersports', '3 Series Gran Turismo', 'Sonic', 'Malibu Classic', 'Raider', 'GX 460', 'Caliber', 'Dawn', 'G Coupe', 'C30', 'Quest', 'Sedona', '370Z', 'G35', 'DB9', 'Expedition', 'Elantra Coupe', 'S6', 'Viper', 'M6', 'X1', 'Shelby GT500', 'QX50', 'SLC-Class', 'Solstice', 'V50', 'SLS AMG GT Final Edition', 'Jetta', 'Macan', 'CX-9', 'GS 460', 'GLK-Class', 'XLR', 'Grand Vitara', 'Escape Hybrid', 'B-Series Truck', 'Crown Victoria', 'Beetle Convertible', 'QX', 'Mark LT', 'A5', 'F-150', 'H3', 'ALPINA B7', 'Jetta SportWagen', 'Continental GT', 'CX-5', 'CC', 'Azure T', 'SC 430', 'Brooklands', 'CTS-V', 'Sorento', 'ES 350', 'Cobalt', 'Civic', 'Continental GT Speed', 'Azera', 'Continental Supersports Convertible', 'GT-R', 'Tiguan', 'TLX', 'Equus', 'Forenza', 'WRX', 'IS 250', 'QX70', 'California', 'Traverse', 'Sportage', 'TrailBlazer', 'M37', 'Verano', 'X3', 'Durango', 'Genesis Coupe', 'GX 470', 'Insight', 'Forester', 'G Sedan', '500X', 'Cruze', 'Q60 Coupe', 'e-Golf', 'Pacifica', 'ActiveHybrid 7', 'Town and Country', 'Ridgeline', 'QX60', 'DTS', 'A4', 'Q40', 'R32', '500', 'XT5', 'Armada', 'FX45', 'Ram Pickup 1500', 'C-Class', 'Acadia Limited', 'Versa Note', '300', 'GranTurismo Convertible', 'LFA', 'Evora', 'SLS AMG', 'Fiesta', '650S Spider', 'Vibe', 'Jetta GLI', 'Ghost Series II', 'MDX', 'XTS', 'Z4', 'X5', 'Veyron 16.4', 'Elantra GT', 'Galant', 'Golf', 'G Convertible', 'GTI', 'Lucerne', 'XLR-V', '718 Cayman', 'Pathfinder', 'LR4', 'Jetta Hybrid', 'G6', 'SL-Class', 'SLK-Class', 'ALPINA B6 Gran Coupe', 'ATS-V', 'RS 4', 'Yukon', 'RAV4 Hybrid', 'Avenger', 'Routan', 'Continental Flying Spur Speed', 'SRT Viper', 'ES 300h', 'Prius v', 'Q50', 'Impala Limited', 'iQ', 'GS 350', 'Versa', 'IS 200t', 'CLS-Class', 'Panamera', 'RS 5', 'Continental GTC Speed', 'Journey', 'Phantom Drophead Coupe', 'Avalanche', 'A6', 'Quattroporte', 'Model S', 'Sonata Hybrid', 'Soul', 'M6 Gran Coupe', '2', 'Forte', '570S', 'A4 allroad', 'Outback', '612 Scaglietti', 'Sequoia', 'RX 400h', 'ILX', 'TT RS', 'Silverado 1500 Hybrid', '1 Series M', 'X6', 'Escalade', 'Passat', 'Huracan', 'Focus RS', 'Vanquish', 'G3', 'Spark EV', 'Acadia', 'Element', 'GLA-Class', '1 Series', 'Beetle', 'SX4', 'Virage', 'Crosstour', '5 Series', 'FX', 'GS 200t', 'Golf R', 'Elantra Touring', 'Yaris', 'CR-V', 'HR-V', 'Accent', 'Charger', 'V8 Vantage', 'ILX Hybrid', 'Torrent', 'XC60', 'CX-7', 'Aveo', 'Camaro', 'Yukon Hybrid', 'Aventador', 'Lancer Evolution', 'Touareg 2', '124 Spider', 'S60', 'Dakota', 'GLS-Class'}\n"
          ],
          "name": "stdout"
        }
      ]
    },
    {
      "cell_type": "markdown",
      "metadata": {
        "id": "psGvQ3iniKrB"
      },
      "source": [
        "There are several unique brands in the dataset and several unique models for each brand. This will be helpful to design the application for a wide range of people from different backgrounds."
      ]
    },
    {
      "cell_type": "code",
      "metadata": {
        "id": "561ACJXPEARt",
        "colab": {
          "base_uri": "https://localhost:8080/",
          "height": 313
        },
        "outputId": "a07de1b6-46e0-4338-badd-55df1ae03bc9"
      },
      "source": [
        "#Plot Boxplot of Years\n",
        "plt.rcParams[\"figure.figsize\"] = (8, 4)\n",
        "plt.xlabel(\"Year\")\n",
        "plt.boxplot(feat[\"Year\"], vert = False)\n",
        "plt.show()\n",
        "\n",
        "#Print Five Number Summary of Years\n",
        "print(\"\\nFive Number Summary: \" + str(list(np.percentile(feat[\"Year\"], [0, 25, 50, 75, 100]))))"
      ],
      "execution_count": null,
      "outputs": [
        {
          "output_type": "display_data",
          "data": {
            "image/png": "[encoded data removed]",
            "text/plain": [
              "<Figure size 576x288 with 1 Axes>"
            ]
          },
          "metadata": {
            "tags": [],
            "needs_background": "light"
          }
        },
        {
          "output_type": "stream",
          "text": [
            "\n",
            "Five Number Summary: [2008.0, 2014.0, 2015.0, 2016.0, 2017.0]\n"
          ],
          "name": "stdout"
        }
      ]
    },
    {
      "cell_type": "markdown",
      "metadata": {
        "id": "kuYglAqfisE-"
      },
      "source": [
        "Half of the cars in the dataset are from 2015 - 2017 and the other half are from 2008 - 2015. This means that there are more cars from later years, which is good since most users prefer newer cars. When creating the recommendation algorithm, it could also be helpful to penalize cars that are below a certain arbitrary threshold such as 2012."
      ]
    },
    {
      "cell_type": "code",
      "metadata": {
        "id": "3QGwDb_OE-2-",
        "colab": {
          "base_uri": "https://localhost:8080/",
          "height": 187
        },
        "outputId": "2e12d43c-3327-4c07-bee2-4386ab401e77"
      },
      "source": [
        "#Unique Engine Fuel Types\n",
        "set(feat[\"Engine Fuel Type\"])"
      ],
      "execution_count": null,
      "outputs": [
        {
          "output_type": "execute_result",
          "data": {
            "text/plain": [
              "{'diesel',\n",
              " 'electric',\n",
              " 'flex-fuel (premium unleaded recommended/E85)',\n",
              " 'flex-fuel (premium unleaded required/E85)',\n",
              " 'flex-fuel (unleaded/E85)',\n",
              " 'flex-fuel (unleaded/natural gas)',\n",
              " 'natural gas',\n",
              " 'premium unleaded (recommended)',\n",
              " 'premium unleaded (required)',\n",
              " 'regular unleaded'}"
            ]
          },
          "metadata": {
            "tags": []
          },
          "execution_count": 5
        }
      ]
    },
    {
      "cell_type": "markdown",
      "metadata": {
        "id": "Jyq-ZWcljLnm"
      },
      "source": [
        "There are several unique fuel types for the cars in the dataset. When creating the recommendation algorithm, I will most likely look for keywords such as \"flex-fuel\", \"premium\", \"regular\", etc to assign points to each car accordingly and group the keywords into the fuel categories of the preferences dataset appropriately."
      ]
    },
    {
      "cell_type": "code",
      "metadata": {
        "id": "kcuw1f53FRGK",
        "colab": {
          "base_uri": "https://localhost:8080/",
          "height": 34
        },
        "outputId": "b3dfb30a-a49c-4cd9-fa1a-baa5260488e9"
      },
      "source": [
        "#Unique Transmission Types\n",
        "set(feat[\"Transmission Type\"])"
      ],
      "execution_count": null,
      "outputs": [
        {
          "output_type": "execute_result",
          "data": {
            "text/plain": [
              "{'automated manual', 'automatic', 'direct drive', 'manual'}"
            ]
          },
          "metadata": {
            "tags": []
          },
          "execution_count": 6
        }
      ]
    },
    {
      "cell_type": "markdown",
      "metadata": {
        "id": "5Cfsqmfvjkt1"
      },
      "source": [
        "Automatic and Manual cars are well known transmission types. For clarification, Direct Drive is the transmission type for electric cars and Automated Manual is a unique transmission type where the gear stick is similar to that of a Manual car, but there is no clutch. When creating the recommendation algorithm, I could possibly penalize cars with Manual or Automatic Manual transmission types as they are not widely used anymore."
      ]
    },
    {
      "cell_type": "code",
      "metadata": {
        "id": "qM_bipLGFWU5",
        "colab": {
          "base_uri": "https://localhost:8080/",
          "height": 85
        },
        "outputId": "68c90874-a2c2-45ac-cfcd-01a70c485574"
      },
      "source": [
        "#Unique Drivetrains\n",
        "set(feat[\"Drivetrain\"])"
      ],
      "execution_count": null,
      "outputs": [
        {
          "output_type": "execute_result",
          "data": {
            "text/plain": [
              "{'all wheel drive',\n",
              " 'four wheel drive',\n",
              " 'front wheel drive',\n",
              " 'rear wheel drive'}"
            ]
          },
          "metadata": {
            "tags": []
          },
          "execution_count": 7
        }
      ]
    },
    {
      "cell_type": "markdown",
      "metadata": {
        "id": "C1JWCJzzkl93"
      },
      "source": [
        "For clarification, four wheel drive is similar to all wheel drive but four wheel drive is especially useful for users interested in off-roading or driving on rugged terrain."
      ]
    },
    {
      "cell_type": "code",
      "metadata": {
        "id": "Jp0UmbGQFanU",
        "colab": {
          "base_uri": "https://localhost:8080/",
          "height": 204
        },
        "outputId": "13b1d12e-7737-4273-d966-295515a0bafe"
      },
      "source": [
        "#Unique Market Categories\n",
        "set(\",\".join(feat[\"Market Category\"]).split(\",\"))"
      ],
      "execution_count": null,
      "outputs": [
        {
          "output_type": "execute_result",
          "data": {
            "text/plain": [
              "{'Crossover',\n",
              " 'Diesel',\n",
              " 'Exotic',\n",
              " 'Factory Tuner',\n",
              " 'Flex Fuel',\n",
              " 'Hatchback',\n",
              " 'High-Performance',\n",
              " 'Hybrid',\n",
              " 'Luxury',\n",
              " 'N/A',\n",
              " 'Performance'}"
            ]
          },
          "metadata": {
            "tags": []
          },
          "execution_count": 8
        }
      ]
    },
    {
      "cell_type": "markdown",
      "metadata": {
        "id": "cucoEO2mkzcJ"
      },
      "source": [
        "There are several unique market categories and I will most likely look for certain keywords such as \"Luxury\" and \"High-Performance\" to reward certain cars accordingly."
      ]
    },
    {
      "cell_type": "code",
      "metadata": {
        "id": "5HtPWYMTF8Vf",
        "colab": {
          "base_uri": "https://localhost:8080/",
          "height": 34
        },
        "outputId": "96935ace-bf2c-4a03-d3d0-da6ef49bd9ef"
      },
      "source": [
        "#Unique Vehicle Sizes\n",
        "set(feat[\"Vehicle Size\"])"
      ],
      "execution_count": null,
      "outputs": [
        {
          "output_type": "execute_result",
          "data": {
            "text/plain": [
              "{'Compact', 'Midsize/Large'}"
            ]
          },
          "metadata": {
            "tags": []
          },
          "execution_count": 9
        }
      ]
    },
    {
      "cell_type": "markdown",
      "metadata": {
        "id": "NJkudlnIlByo"
      },
      "source": [
        "The reason I joined the separate \"Midsize\" and \"Large\" sizes into one \"Midsize/Large\" size is to match the sizes in the preferences dataset, which I will be using to determine the specifics of the scoring system in the recommendation algorithm."
      ]
    },
    {
      "cell_type": "code",
      "metadata": {
        "id": "KhrVH7plHttc",
        "colab": {
          "base_uri": "https://localhost:8080/",
          "height": 238
        },
        "outputId": "d5b2bb9d-4fb2-4394-c28c-eb69f3fdd22e"
      },
      "source": [
        "#Unique Vehicle Styles\n",
        "set(feat[\"Vehicle Style\"])"
      ],
      "execution_count": null,
      "outputs": [
        {
          "output_type": "execute_result",
          "data": {
            "text/plain": [
              "{'2 Door Hatchback',\n",
              " '2 Door SUV',\n",
              " '4 Door Hatchback',\n",
              " '4 Door SUV',\n",
              " 'Convertible',\n",
              " 'Convertible SUV',\n",
              " 'Coupe',\n",
              " 'Crew Cab Pickup',\n",
              " 'Extended Cab Pickup',\n",
              " 'Passenger Minivan',\n",
              " 'Regular Cab Pickup',\n",
              " 'Sedan',\n",
              " 'Station Wagon'}"
            ]
          },
          "metadata": {
            "tags": []
          },
          "execution_count": 10
        }
      ]
    },
    {
      "cell_type": "markdown",
      "metadata": {
        "id": "apcgoLqwlbZO"
      },
      "source": [
        "There are several unique vehicle styles and I will reward and penalize certain cars based on the user's attributes. For example, I will most likely reward passenger minivans for a user who has a large household."
      ]
    },
    {
      "cell_type": "code",
      "metadata": {
        "id": "bpoUOxcgHvrp",
        "colab": {
          "base_uri": "https://localhost:8080/",
          "height": 313
        },
        "outputId": "4b49f5a7-e245-4484-e90f-aa999f01b059"
      },
      "source": [
        "#Plot Histogram of MSRPs\n",
        "plt.rcParams[\"figure.figsize\"] = (16, 4)\n",
        "plt.xlabel(\"MSRP\")\n",
        "plt.hist(feat[\"MSRP\"], bins = 500)\n",
        "plt.show()\n",
        "\n",
        "#Print Five Number Summary of MSRPs\n",
        "print(\"\\nFive Number Summary: \" + str(list(np.percentile(feat[\"MSRP\"], [0, 25, 50, 75, 100]))))"
      ],
      "execution_count": null,
      "outputs": [
        {
          "output_type": "display_data",
          "data": {
            "image/png": "[encoded data removed]",
            "text/plain": [
              "<Figure size 1152x288 with 1 Axes>"
            ]
          },
          "metadata": {
            "tags": [],
            "needs_background": "light"
          }
        },
        {
          "output_type": "stream",
          "text": [
            "\n",
            "Five Number Summary: [11965.0, 26298.0, 35000.0, 48100.0, 2065902.0]\n"
          ],
          "name": "stdout"
        }
      ]
    },
    {
      "cell_type": "markdown",
      "metadata": {
        "id": "GLcabNk0lrqY"
      },
      "source": [
        "The distribution of MSRPs is heavily skewed to the right and the median price almost perfectly matches the true median price of a new car in the United States, which indicates that the dataset represents most cars in the United States very well. To ensure that the algorithm doesn't recommend an insanely expensive car to any user, I will add a filtering function where all cars costing more than a selected maximum price will be removed."
      ]
    },
    {
      "cell_type": "code",
      "metadata": {
        "id": "oORYYE2QIfp3",
        "colab": {
          "base_uri": "https://localhost:8080/",
          "height": 313
        },
        "outputId": "8857d555-0dda-48a9-c454-c1621a87ce8f"
      },
      "source": [
        "#Plot Boxplot of Popularity values\n",
        "plt.rcParams[\"figure.figsize\"] = (8, 4)\n",
        "plt.xlabel(\"Popularity\")\n",
        "plt.boxplot(feat[\"Popularity\"], vert = False)\n",
        "plt.show()\n",
        "\n",
        "#Print Five Number Summary of Popularity values\n",
        "print(\"\\nFive Number Summary: \" + str(list(np.percentile(feat[\"Popularity\"], [0, 25, 50, 75, 100]))))"
      ],
      "execution_count": null,
      "outputs": [
        {
          "output_type": "display_data",
          "data": {
            "image/png": "[encoded data removed]",
            "text/plain": [
              "<Figure size 576x288 with 1 Axes>"
            ]
          },
          "metadata": {
            "tags": [],
            "needs_background": "light"
          }
        },
        {
          "output_type": "stream",
          "text": [
            "\n",
            "Five Number Summary: [2.0, 586.0, 1385.0, 2031.0, 5657.0]\n"
          ],
          "name": "stdout"
        }
      ]
    },
    {
      "cell_type": "markdown",
      "metadata": {
        "id": "nY5qzxrJm0Ca"
      },
      "source": [
        "The distribution of popularity values are also skewed to the right and I will reward cars based on how popular they are when developing the scoring algorithm."
      ]
    },
    {
      "cell_type": "code",
      "metadata": {
        "id": "zkIzS9VqJejL",
        "colab": {
          "base_uri": "https://localhost:8080/",
          "height": 565
        },
        "outputId": "91c63b5d-833d-46ed-8e36-26f8f5e46ef2"
      },
      "source": [
        "plt.rcParams[\"figure.figsize\"] = (16, 8)\n",
        "\n",
        "#Plot Boxplot of Highway MPG values\n",
        "plt.subplot(221)\n",
        "plt.xlabel(\"Highway MPG\")\n",
        "plt.boxplot(feat[\"Highway MPG\"], vert = False)\n",
        "\n",
        "#Plot Boxplot of City MPG values\n",
        "plt.subplot(222)\n",
        "plt.xlabel(\"City MPG\")\n",
        "plt.boxplot(feat[\"City MPG\"], vert = False)\n",
        "\n",
        "#Plot Scatterplot of Highway MPG values VS City MPG values\n",
        "plt.subplot(223)\n",
        "plt.xlabel(\"Highway MPG\")\n",
        "plt.ylabel(\"City MPG\")\n",
        "plt.scatter(feat[\"Highway MPG\"], feat[\"City MPG\"])\n",
        "\n",
        "plt.show()\n",
        "\n",
        "#Print Five Number Summary of Highway MPG values\n",
        "print(\"\\nFive Number Summary (Highway MPG): \" + str(list(np.percentile(feat[\"Highway MPG\"], [0, 25, 50, 75, 100]))))\n",
        "\n",
        "#Print Five Number Summary of City MPG values\n",
        "print(\"\\nFive Number Summary (City MPG): \" + str(list(np.percentile(feat[\"City MPG\"], [0, 25, 50, 75, 100]))))"
      ],
      "execution_count": null,
      "outputs": [
        {
          "output_type": "display_data",
          "data": {
            "image/png": "[encoded data removed]",
            "text/plain": [
              "<Figure size 1152x576 with 3 Axes>"
            ]
          },
          "metadata": {
            "tags": [],
            "needs_background": "light"
          }
        },
        {
          "output_type": "stream",
          "text": [
            "\n",
            "Five Number Summary (Highway MPG): [13.0, 23.0, 27.0, 31.0, 111.0]\n",
            "\n",
            "Five Number Summary (City MPG): [8.0, 16.0, 19.0, 23.0, 137.0]\n"
          ],
          "name": "stdout"
        }
      ]
    },
    {
      "cell_type": "markdown",
      "metadata": {
        "id": "m7Fv3_9opGoT"
      },
      "source": [
        "Excluding outliers, both the Highway MPG values and City MPG values are approximately normally distributed with the City MPG values being lower in general due to more of a stop and go traffic pattern in cities. \n",
        "\n",
        "In the scoring algorithm, I will reward cars with higher mileages and penalize cars with lower mileages."
      ]
    },
    {
      "cell_type": "code",
      "metadata": {
        "id": "e95l3RHSg555"
      },
      "source": [
        "#Function to remove \"N/A\" values from either one or two lists\n",
        "def removeNA(numLists, inputLists):\n",
        "  if numLists == 1:\n",
        "    return [elem for elem in inputLists[0] if elem != \"N/A\"]\n",
        "  else:\n",
        "    returnLists = [[], []]\n",
        "    for i in range(len(feat)):\n",
        "      if inputLists[0][i] != \"N/A\" and inputLists[1][i] != \"N/A\":\n",
        "        returnLists[0].append(inputLists[0][i])\n",
        "        returnLists[1].append(inputLists[1][i])\n",
        "    return returnLists"
      ],
      "execution_count": null,
      "outputs": []
    },
    {
      "cell_type": "markdown",
      "metadata": {
        "id": "ogeUitw4qQO-"
      },
      "source": [
        "This function is created for the Engine HP, Engine Cylinders, and Number of Doors columns, which all have some N/A values."
      ]
    },
    {
      "cell_type": "code",
      "metadata": {
        "id": "P3QHR8yDcPXZ",
        "colab": {
          "base_uri": "https://localhost:8080/",
          "height": 313
        },
        "outputId": "85c80246-8372-4f9e-8291-37892688dfc2"
      },
      "source": [
        "engineHP = list(map(int, removeNA(1, [feat[\"Engine HP\"]])))\n",
        "\n",
        "#Plot Boxplot of Engine HP values\n",
        "plt.rcParams[\"figure.figsize\"] = (8, 4)\n",
        "plt.xlabel(\"Engine HP\")\n",
        "plt.boxplot(engineHP, vert = False)\n",
        "plt.show()\n",
        "\n",
        "#Print Five Number Summary of Engine HP values\n",
        "print(\"\\nFive Number Summary: \" + str(list(np.percentile(engineHP, [0, 25, 50, 75, 100]))))"
      ],
      "execution_count": null,
      "outputs": [
        {
          "output_type": "display_data",
          "data": {
            "image/png": "[encoded data removed]",
            "text/plain": [
              "<Figure size 576x288 with 1 Axes>"
            ]
          },
          "metadata": {
            "tags": [],
            "needs_background": "light"
          }
        },
        {
          "output_type": "stream",
          "text": [
            "\n",
            "Five Number Summary: [66.0, 184.0, 265.0, 325.0, 1001.0]\n"
          ],
          "name": "stdout"
        }
      ]
    },
    {
      "cell_type": "markdown",
      "metadata": {
        "id": "sVdm_5Z_qhi5"
      },
      "source": [
        "In general, the Engine HP values are skewed to the right and there are a lot of outliers, which are mostly luxury sport cars."
      ]
    },
    {
      "cell_type": "code",
      "metadata": {
        "id": "lmvaL8dXeJG6",
        "colab": {
          "base_uri": "https://localhost:8080/",
          "height": 102
        },
        "outputId": "935aba04-52c6-45a7-b4a1-66a0522737f5"
      },
      "source": [
        "#Print the Correlation Coefficient for Engine Cylinders and Engine HP\n",
        "temp = removeNA(2, [feat[\"Engine Cylinders\"], feat[\"Engine HP\"]])\n",
        "print(\"Correlation Coefficient between Engine Cylinders and Engine HP: \" + str(np.corrcoef(list(map(int, temp[0])), list(map(int, temp[1])))[0][1]))\n",
        "\n",
        "#Print the Correlation Coefficient for Engine HP and Number of Doors\n",
        "temp = removeNA(2, [feat[\"Engine HP\"], feat[\"Number of Doors\"]])\n",
        "print(\"\\nCorrelation Coefficient between Engine HP and Number of Doors: \" + str(np.corrcoef(list(map(int, temp[0])), list(map(int, temp[1])))[0][1]))\n",
        "\n",
        "#Print the Correlation Coefficient for Engine HP and Highway MPG\n",
        "temp = removeNA(2, [feat[\"Engine HP\"], feat[\"Highway MPG\"]])\n",
        "print(\"\\nCorrelation Coefficient between Engine HP and Highway MPG: \" + str(np.corrcoef(list(map(int, temp[0])), list(map(int, temp[1])))[0][1]))"
      ],
      "execution_count": null,
      "outputs": [
        {
          "output_type": "stream",
          "text": [
            "Correlation Coefficient between Engine Cylinders and Engine HP: 0.8644794639449834\n",
            "\n",
            "Correlation Coefficient between Engine HP and Number of Doors: -0.27294134515676677\n",
            "\n",
            "Correlation Coefficient between Engine HP and Highway MPG: -0.5970349269938005\n"
          ],
          "name": "stdout"
        }
      ]
    },
    {
      "cell_type": "markdown",
      "metadata": {
        "id": "bV1AtlKir0fO"
      },
      "source": [
        "1. As the number of engine cylinders in a car increases, so does the horsepower (strong correlation).\n",
        "2. As the engine horsepower of a car goes up, the number of doors go down (weak correlation). This is because luxury sport cars that have very powerful engines mostly have two doors instead of four.\n",
        "3. As the engine horsepower of a car goes up, the mileage goes down (moderate correlation). Luxury sport cars with powerful cars are almost always gas guzzlers.\n",
        "<br /><br />\n",
        "I could use this information to penalize cars with very powerful engines and low mileages or vica versa depending on the user's attributes."
      ]
    }
  ]
}